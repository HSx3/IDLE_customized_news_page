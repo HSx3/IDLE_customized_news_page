{
 "cells": [
  {
   "cell_type": "markdown",
   "metadata": {},
   "source": [
    "# Google News API\n",
    "\n",
    "실행하시기 전에 `pip install NewsApiClient`\n",
    "\n",
    "- [google news api](https://newsapi.org/)\n",
    "- [github sourcecode](https://github.com/mattlisiv/newsapi-python)"
   ]
  },
  {
   "cell_type": "code",
   "execution_count": 7,
   "metadata": {},
   "outputs": [],
   "source": [
    "from newsapi import NewsApiClient\n",
    "import os"
   ]
  },
  {
   "cell_type": "code",
   "execution_count": 8,
   "metadata": {},
   "outputs": [],
   "source": [
    "gkey = os.getenv('googleKey')"
   ]
  },
  {
   "cell_type": "code",
   "execution_count": 13,
   "metadata": {},
   "outputs": [],
   "source": [
    "newsapi = NewsApiClient(api_key = gkey)"
   ]
  },
  {
   "cell_type": "markdown",
   "metadata": {},
   "source": [
    "## newsApi\n",
    "- newsapi는 `get_everything`,`get_sources`,`get_top_headlines` method를 활용가능.\n",
    "- [그 외에 달릴 수 있는 params는 사이트 확인](https://newsapi.org/docs/endpoints/top-headlines)"
   ]
  },
  {
   "cell_type": "markdown",
   "metadata": {},
   "source": [
    "### get_everything\n",
    "\n",
    "#### params\n",
    "\n",
    "- (str) q - return headlines w/ specified coin! Valid values are:\n",
    "       'bitcoin', 'trump', 'tesla', 'ethereum', etc\n",
    "- (str) sources - return headlines of news sources! some Valid values are:\n",
    "      'bbc-news', 'the-verge', 'abc-news', 'crypto coins news', 'ary news','associated press','wired','aftenposten','australian financial review','axios','bbc news','bild','blasting news','bloomberg','business insider','engadget','google news','hacker news','info money,'recode','techcrunch','techradar','the next web','the verge' etc.\n",
    "- (str) domains - A comma-seperated string of domains (eg bbc.co.uk, techcrunch.com, engadget.com) to restrict the search to.\n",
    "- (str) exclude_domains - A comma_seperated string of domains to be excluded from the search\n",
    "- (str) from_param - A date and optional time for the oldest article allowed.\n",
    "       (e.g. 2018-03-05 or 2018-03-05T03:46:15)\n",
    "- (str) to - A date and optional time for the newest article allowed.\n",
    "- (str) language - The 2-letter ISO-639-1 code of the language you want to get headlines for. Valid values are:\n",
    "       'ar','de','en','es','fr','he','it','nl','no','pt','ru','se','ud','zh'\n",
    "- (str) sort_by - The order to sort the articles in. Valid values are:    \n",
    "       'relevancy','popularity','publishedAt'\n",
    "- (int) page_size - The number of results to return per page (request). 20 is the default, 100 is the maximum.\n",
    "- (int) page - Use this to page through the results if the total results found is greater than the page size.\n",
    "- [etc](https://newsapi.org/docs/endpoints/everything)"
   ]
  },
  {
   "cell_type": "code",
   "execution_count": 24,
   "metadata": {},
   "outputs": [],
   "source": [
    "news = newsapi.get_everything(sources = 'bbc-news')"
   ]
  },
  {
   "cell_type": "code",
   "execution_count": 25,
   "metadata": {},
   "outputs": [
    {
     "name": "stdout",
     "output_type": "stream",
     "text": [
      "{'source': {'id': 'bbc-news', 'name': 'BBC News'}, 'author': 'BBC News', 'title': 'Wildfires: Our generation needs to stop climate change', 'description': 'The UK has had more wildfires in half of 2019 than any year on record, Joe wants to learn why.', 'url': 'https://www.bbc.co.uk/news/av/stories-48792160/wildfires-our-generation-needs-to-stop-climate-change', 'urlToImage': 'https://ichef.bbci.co.uk/news/1024/branded_news/50A6/production/_107764602_p07g4mvj.jpg', 'publishedAt': '2019-07-08T01:53:34Z', 'content': None}\n",
      "{'source': {'id': 'bbc-news', 'name': 'BBC News'}, 'author': None, 'title': '2019/07/08 01:00 GMT', 'description': 'The latest five minute news bulletin from BBC World Service.', 'url': 'https://www.bbc.co.uk/programmes/w172wy0dd7dw1wv', 'urlToImage': 'https://ichef.bbci.co.uk/images/ic/1200x675/p060dh18.jpg', 'publishedAt': '2019-07-08T01:06:00Z', 'content': 'The latest five minute news bulletin from BBC World Service.'}\n",
      "{'source': {'id': 'bbc-news', 'name': 'BBC News'}, 'author': 'https://www.facebook.com/bbcnews', 'title': 'Facebook tip-off leads police to Grimston rave', 'description': 'Five people were arrested at the event, which attracted about 600 ravers.', 'url': 'https://www.bbc.co.uk/news/uk-england-norfolk-48904317', 'urlToImage': 'https://ichef.bbci.co.uk/news/1024/branded_news/AECC/production/_107784744_grimstonrave1.jpg', 'publishedAt': '2019-07-08T01:02:07Z', 'content': 'Image copyrightNorfolk ConstabularyImage caption\\r\\n Police sent specialist support units to the rave site at Grimston\\r\\nPolice arrested five people and seized sound equipment at an illegal rave after they were alerted by someone who saw it advertised on Faceboo… [+1141 chars]'}\n",
      "{'source': {'id': 'bbc-news', 'name': 'BBC News'}, 'author': 'https://www.facebook.com/bbcnews', 'title': 'Mandla Maseko: Would-be African astronaut dies in road crash', 'description': 'Mandla Maseko, from a South African township, won a chance to become the first black African in space.', 'url': 'https://www.bbc.co.uk/news/world-africa-48904136', 'urlToImage': 'https://ichef.bbci.co.uk/news/1024/branded_news/6B38/production/_107784472_9dc2c192-7858-4415-aa23-56da13657657.jpg', 'publishedAt': '2019-07-08T00:57:08Z', 'content': 'Image copyrightAFP/Getty ImagesImage caption\\r\\n Mandla Maseko described himself as a typical township boy\\r\\nA South African who won the chance to be the first black African in space has died in a motorbike accident before turning his dream into reality.\\r\\nMandla… [+970 chars]'}\n",
      "{'source': {'id': 'bbc-news', 'name': 'BBC News'}, 'author': 'https://www.facebook.com/bbcnews', 'title': 'Former Brexit chief: We should all worry about no deal', 'description': 'A civil servant previously in charge of Brexit-planning tells the BBC no deal is fraught with risk.', 'url': 'https://www.bbc.co.uk/news/uk-politics-48901055', 'urlToImage': 'https://ichef.bbci.co.uk/news/1024/branded_news/8C39/production/_107779853_brexit-afpgetty.jpg', 'publishedAt': '2019-07-08T00:53:23Z', 'content': 'Image copyrightAFP/ Getty Images\\r\\nEveryone should worry about no deal, the civil servant who was, until March, head of the Brexit department has said. \\r\\nPhilip Rycroft, who resigned after 18 months, told the BBC\\'s Panorama no deal was \"fraught with risk\". \\r\\nA… [+5474 chars]'}\n",
      "{'source': {'id': 'bbc-news', 'name': 'BBC News'}, 'author': 'BBC News', 'title': 'Are robots getting better at football?', 'description': 'Robocup 2019, the world cup for autonomous robots, has been taking place in Sydney.', 'url': 'https://www.bbc.co.uk/news/av/technology-48900783/are-robots-getting-better-at-football', 'urlToImage': 'https://ichef.bbci.co.uk/news/1024/branded_news/1145C/production/_107784707_p07g99h9.jpg', 'publishedAt': '2019-07-08T00:32:09Z', 'content': None}\n",
      "{'source': {'id': 'bbc-news', 'name': 'BBC News'}, 'author': 'https://www.facebook.com/bbcnews', 'title': 'Dark Money: The TV drama that became topical by accident', 'description': 'Dark Money deals with sexual abuse in Hollywood, reflecting themes raised by the #MeToo movement.', 'url': 'https://www.bbc.co.uk/news/entertainment-arts-48769898', 'urlToImage': 'https://ichef.bbci.co.uk/news/1024/branded_news/9C62/production/_107543004_18214405-high_res-dark-money.jpg', 'publishedAt': '2019-07-08T00:14:25Z', 'content': 'Image caption\\r\\n Babou Ceesay plays Manny, the father of a boy who is abused by a Hollywood producer\\r\\nTwo years ago, screenwriter Levi David Addai had an idea for a new fictional TV drama. But within months, the storyline suddenly felt much more realistic.\\r\\nBB… [+5716 chars]'}\n",
      "{'source': {'id': 'bbc-news', 'name': 'BBC News'}, 'author': 'https://www.facebook.com/bbcnews', 'title': 'Glastonbury stars give away clothes for charity', 'description': 'Kylie Minogue, Sheryl Crow and Lewis Capaldi show support for a campaign against \"throwaway fashion\".', 'url': 'https://www.bbc.co.uk/news/entertainment-arts-48900699', 'urlToImage': 'https://ichef.bbci.co.uk/news/1024/branded_news/9298/production/_107782573_composite.jpg', 'publishedAt': '2019-07-08T00:08:32Z', 'content': 'Image copyrightLewis Allman/Liz PorterImage caption\\r\\n Johnny Marr and Sheryl Crow show off the clothes they donated\\r\\nSheryl Crow, Lewis Capaldi and Billie Eilish are among the Glastonbury stars to give clothes to Oxfam in support of a campaign against \"throwa… [+1673 chars]'}\n",
      "{'source': {'id': 'bbc-news', 'name': 'BBC News'}, 'author': None, 'title': '2019/07/08 00:00 GMT', 'description': 'The latest five minute news bulletin from BBC World Service.', 'url': 'https://www.bbc.co.uk/programmes/w172wy0dd7dvy4q', 'urlToImage': 'https://ichef.bbci.co.uk/images/ic/1200x675/p060dh18.jpg', 'publishedAt': '2019-07-08T00:06:00Z', 'content': 'The latest five minute news bulletin from BBC World Service.'}\n",
      "{'source': {'id': 'bbc-news', 'name': 'BBC News'}, 'author': 'https://www.facebook.com/bbcnews', 'title': \"'I got wiped out, but I was determined to make it back'\", 'description': 'How entrepreneur Andy Scott was able to rebuild his business and personal fortune.', 'url': 'https://www.bbc.co.uk/news/business-48868730', 'urlToImage': 'https://ichef.bbci.co.uk/news/1024/branded_news/476D/production/_107758281_andy2.jpg', 'publishedAt': '2019-07-07T23:50:48Z', 'content': \"Image copyrightAndy ScottImage caption\\r\\n Andy Scott managed to rebuild his business empire and personal fortune\\r\\nThe BBC's weekly The Boss series profiles different business leaders from around the world. This week we speak to serial UK entrepreneur Andy Scot… [+5956 chars]\"}\n",
      "{'source': {'id': 'bbc-news', 'name': 'BBC News'}, 'author': None, 'title': 'Centre-right regains power in Greece', 'description': \"The New Democracy party led by Kyriakos Mitsotakis wins the election with an absolute majority. Also: Donald Trump hits back after UK ambassador's leaked emails, and Jodrell Bank gains Unesco World Heritage status.\", 'url': 'https://www.bbc.co.uk/programmes/p07g999r', 'urlToImage': 'https://ichef.bbci.co.uk/images/ic/1200x675/p060d4tt.jpg', 'publishedAt': '2019-07-07T23:50:00Z', 'content': \"The New Democracy party led by Kyriakos Mitsotakis wins the election with an absolute majority. Also: Donald Trump hits back after UK ambassador's leaked emails, and Jodrell Bank gains Unesco World Heritage status.\"}\n",
      "{'source': {'id': 'bbc-news', 'name': 'BBC News'}, 'author': 'https://www.facebook.com/bbcnews', 'title': 'India Jains: Why are these youngsters renouncing the world?', 'description': \"Hundreds of India's Jain youth are choosing renunciation, their numbers rising each year.\", 'url': 'https://www.bbc.co.uk/news/world-asia-india-48879591', 'urlToImage': 'https://ichef.bbci.co.uk/news/1024/branded_news/5FF5/production/_107756542_pooja.jpg', 'publishedAt': '2019-07-07T23:44:25Z', 'content': \"Image caption\\r\\n Hundreds of Jain youth are choosing to renounce the material world - a number up from around 10 to 15 a few years ago\\r\\nHundreds of youth belonging to India's Jain community have begun renouncing the material world to become monks who always wa… [+8213 chars]\"}\n",
      "{'source': {'id': 'bbc-news', 'name': 'BBC News'}, 'author': 'https://www.facebook.com/bbcnews', 'title': \"James Bond: HSE will not investigate Pinewood 'explosion' injury\", 'description': 'A crew member sustained a minor injury in a \"controlled explosion\" at Pinewood Studios in June.', 'url': 'https://www.bbc.co.uk/news/uk-england-beds-bucks-herts-48882085', 'urlToImage': 'https://ichef.bbci.co.uk/news/1024/branded_news/858E/production/_91309143_gettyimages-476973046.jpg', 'publishedAt': '2019-07-07T23:44:18Z', 'content': 'Image copyrightGetty ImagesImage caption\\r\\n Shooting for the 25th official Bond instalment started at Pinewood Studios in April\\r\\nAn explosion which injured a crew member on the set of the new James Bond film will not be formally investigated, the Health and Sa… [+1517 chars]'}\n",
      "{'source': {'id': 'bbc-news', 'name': 'BBC News'}, 'author': 'BBC News', 'title': \"Daniel Howell: 'I'm providing LGBT education schools don't'\", 'description': 'YouTuber Daniel Howell told the BBC the fight to being accepted as LGBT is far from over.', 'url': 'https://www.bbc.co.uk/news/av/uk-48875812/daniel-howell-i-m-providing-lgbt-education-schools-don-t', 'urlToImage': 'https://ichef.bbci.co.uk/news/1024/branded_news/15047/production/_107778068_p07g73ll.jpg', 'publishedAt': '2019-07-07T23:37:38Z', 'content': None}\n",
      "{'source': {'id': 'bbc-news', 'name': 'BBC News'}, 'author': 'https://www.facebook.com/bbcnews', 'title': \"PMI: Scotland 'fastest-growing in UK' for new business\", 'description': 'June saw a much-needed boost in growth, according to new figures, but the Scottish economy remains \"fragile\".', 'url': 'https://www.bbc.co.uk/news/uk-scotland-scotland-business-48899390', 'urlToImage': 'https://ichef.bbci.co.uk/news/1024/branded_news/113C5/production/_107779507_gettyimages-637367232.jpg', 'publishedAt': '2019-07-07T23:32:06Z', 'content': 'Image copyrightGetty ImagesImage caption\\r\\n Scotland had the best results in new business growth in the UK\\r\\nScotland enjoyed the highest rate of new business growth in the UK in June, according to new figures.\\r\\nThe latest Royal Bank of Scotland (RBS) PMI repor… [+2030 chars]'}\n",
      "{'source': {'id': 'bbc-news', 'name': 'BBC News'}, 'author': 'https://www.facebook.com/bbcnews', 'title': \"Remains of UK's oldest Arctic tern found at nature reserve\", 'description': 'The seabird discovered at Forvie National Nature Reserve in Aberdeenshire lived to 32 years of age', 'url': 'https://www.bbc.co.uk/news/uk-scotland-north-east-orkney-shetland-48899961', 'urlToImage': 'https://ichef.bbci.co.uk/news/1024/branded_news/125BD/production/_107779157_gettyimages-1141721769.jpg', 'publishedAt': '2019-07-07T23:31:57Z', 'content': \"Image copyrightGetty ImagesImage caption\\r\\n An average tern lives to 13 years of age\\r\\nThe remains of the UK's oldest recorded Arctic tern have been discovered on an Aberdeenshire nature reserve.\\r\\nThe seabird found at Forvie National Nature Reserve lived to 32 … [+1859 chars]\"}\n",
      "{'source': {'id': 'bbc-news', 'name': 'BBC News'}, 'author': 'BBC News', 'title': 'The forgotten dogs of Chernobyl', 'description': 'The offspring of abandoned pets in the nuclear exclusion zone are receiving veterinary help.', 'url': 'https://www.bbc.co.uk/news/av/world-europe-48871395/the-forgotten-dogs-of-chernobyl', 'urlToImage': 'https://ichef.bbci.co.uk/news/1024/branded_news/E838/production/_107784495_p07g84z5.jpg', 'publishedAt': '2019-07-07T23:30:24Z', 'content': None}\n",
      "{'source': {'id': 'bbc-news', 'name': 'BBC News'}, 'author': 'https://www.facebook.com/bbcnews', 'title': 'Is there a growing far-right threat online?', 'description': 'There is a fear that the full scale of the challenge is still not understood by security services.', 'url': 'https://www.bbc.co.uk/news/world-europe-48830980', 'urlToImage': 'https://ichef.bbci.co.uk/news/1024/branded_news/5150/production/_107661802_gettyimages-845705432.jpg', 'publishedAt': '2019-07-07T23:28:45Z', 'content': 'Image copyrightGetty ImagesImage caption\\r\\n Identitarian movement demonstrates at the site of the 1683 Battle of Vienna - Kahlenberg, 2017\\r\\nFar right activity on the internet threatens to spill over into violence in the real world, according to some observers.… [+24337 chars]'}\n",
      "{'source': {'id': 'bbc-news', 'name': 'BBC News'}, 'author': None, 'title': 'Football gossip: Gerrard, Klopp, De Gea, Tierney, Henderson', 'description': 'Newcastle want Gerrard, De Gea set to sign new deal, Juventus prepare £120m bid for Frenchman, plus more.', 'url': 'https://www.bbc.co.uk/sport/football/48902086', 'urlToImage': 'https://ichef.bbci.co.uk/onesport/cps/624/cpsprodpb/0DDC/production/_107784530_gettyimages-1160608155-1.jpg', 'publishedAt': '2019-07-07T23:22:37Z', 'content': \"Newcastle owner Mike Ashley has approached Liverpool legend and current Rangers manager Steven Gerrard about becoming the Magpies' next boss. (Mirror)\\r\\nBarcelona have beaten Paris St-Germain in the race to sign 16-year-old striker Louie Barry after the Englan… [+1426 chars]\"}\n",
      "{'source': {'id': 'bbc-news', 'name': 'BBC News'}, 'author': 'BBC News', 'title': \"Bereaved family call for 'a life sentence for a life taken'\", 'description': 'Violet-Grace Youens was killed by a hit-and-run driver who collided with her at 83mph.', 'url': 'https://www.bbc.co.uk/news/av/uk-48890530/bereaved-family-call-for-a-life-sentence-for-a-life-taken', 'urlToImage': 'https://ichef.bbci.co.uk/news/1024/branded_news/12500/production/_107780057_p07g85pm.jpg', 'publishedAt': '2019-07-07T23:20:10Z', 'content': None}\n"
     ]
    }
   ],
   "source": [
    "for new in news['articles']:\n",
    "    print(new)"
   ]
  },
  {
   "cell_type": "markdown",
   "metadata": {},
   "source": [
    "### get_top_headlines\n",
    "\n",
    "#### params\n",
    "\n",
    "- (str) q - return headlines w/ specific keyword or phrase. For example:\n",
    "       'bitcoin', 'trump', 'tesla', 'ethereum', etc.\n",
    "    (str) sources - return headlines of news sources! some Valid values are:\n",
    "       'bbc-news', 'the-verge', 'abc-news', 'crypto coins news', 'ary news','associated press','wired','aftenposten','australian financial review','axios','bbc news','bild','blasting news','bloomberg','business insider','engadget','google news','hacker news','info money,'recode','techcrunch','techradar','the next web','the verge' etc.\n",
    "- (str) language - The 2-letter ISO-639-1 code of the language you want to get headlines for. Valid values are:\n",
    "     'ar','de','en','es','fr','he','it','nl','no','pt','ru','se','ud','zh'\n",
    "- (str) country - The 2-letter ISO 3166-1 code of the country you want to get headlines! Valid values are:\n",
    "       'ae','ar','at','au','be','bg','br','ca','ch','cn','co','cu','cz','de','eg','fr','gb','gr','hk','hu','id','ie','il','in','it','jp','kr','lt','lv','ma','mx','my','ng','nl','no','nz','ph','pl','pt','ro','rs','ru','sa','se','sg','si','sk','th','tr','tw','ua','us'\n",
    "- (str) category - The category you want to get headlines for! Valid values are:\n",
    "     'business','entertainment','general','health','science','sports','technology'\n",
    "- (int) page_size - The number of results to return per page (request). 20 is the default, 100 is the maximum.\n",
    "- (int) page - Use this to page through the results if the total results found is greater than the page size.\n",
    "- [etc](https://newsapi.org/docs/endpoints/top-headlines)"
   ]
  },
  {
   "cell_type": "code",
   "execution_count": 26,
   "metadata": {},
   "outputs": [],
   "source": [
    "news = newsapi.get_top_headlines(q='Trump')"
   ]
  },
  {
   "cell_type": "markdown",
   "metadata": {},
   "source": [
    "### get_sources\n",
    "\n",
    "#### params\n",
    "- (str) category - The category you want to get headlines for! Valid values are:\n",
    "      'business','entertainment','general','health','science','sports','technology'\n",
    "- (str) language - The 2-letter ISO-639-1 code of the language you want to get headlines for. Valid values are:\n",
    "      'ar','de','en','es','fr','he','it','nl','no','pt','ru','se','ud','zh'\n",
    "- (str) country - The 2-letter ISO 3166-1 code of the country you want to get headlines! Valid values are:\n",
    "      'ae','ar','at','au','be','bg','br','ca','ch','cn','co','cu','cz','de','eg','fr','gb','gr', 'hk','hu','id','ie','il','in','it','jp','kr','lt','lv','ma','mx','my','ng','nl','no','nz', 'ph','pl','pt','ro','rs','ru','sa','se','sg','si','sk','th','tr','tw','ua','us'\n",
    "- (str) category - The category you want to get headlines for! Valid values are:\n",
    "        'business','entertainment','general','health','science','sports','technology'\n"
   ]
  },
  {
   "cell_type": "code",
   "execution_count": 10,
   "metadata": {},
   "outputs": [],
   "source": [
    "news_source = newsapi.get_sources(category='science')"
   ]
  },
  {
   "cell_type": "code",
   "execution_count": 11,
   "metadata": {
    "scrolled": true
   },
   "outputs": [
    {
     "data": {
      "text/plain": [
       "[{'id': 'national-geographic',\n",
       "  'name': 'National Geographic',\n",
       "  'description': 'Reporting our world daily: original nature and science news from National Geographic.',\n",
       "  'url': 'http://news.nationalgeographic.com',\n",
       "  'category': 'science',\n",
       "  'language': 'en',\n",
       "  'country': 'us'},\n",
       " {'id': 'new-scientist',\n",
       "  'name': 'New Scientist',\n",
       "  'description': 'Breaking science and technology news from around the world. Exclusive stories and expert analysis on space, technology, health, physics, life and Earth.',\n",
       "  'url': 'https://www.newscientist.com/section/news',\n",
       "  'category': 'science',\n",
       "  'language': 'en',\n",
       "  'country': 'us'},\n",
       " {'id': 'next-big-future',\n",
       "  'name': 'Next Big Future',\n",
       "  'description': 'Coverage of science and technology that have the potential for disruption, and analysis of plans, policies, and technology that enable radical improvement.',\n",
       "  'url': 'https://www.nextbigfuture.com',\n",
       "  'category': 'science',\n",
       "  'language': 'en',\n",
       "  'country': 'us'}]"
      ]
     },
     "execution_count": 11,
     "metadata": {},
     "output_type": "execute_result"
    }
   ],
   "source": [
    "news_source['sources']"
   ]
  },
  {
   "cell_type": "code",
   "execution_count": 1,
   "metadata": {},
   "outputs": [],
   "source": []
  },
  {
   "cell_type": "markdown",
   "metadata": {},
   "source": [
    "# naver News API"
   ]
  },
  {
   "cell_type": "code",
   "execution_count": null,
   "metadata": {},
   "outputs": [],
   "source": []
  }
 ],
 "metadata": {
  "kernelspec": {
   "display_name": "Python 3",
   "language": "python",
   "name": "python3"
  },
  "language_info": {
   "codemirror_mode": {
    "name": "ipython",
    "version": 3
   },
   "file_extension": ".py",
   "mimetype": "text/x-python",
   "name": "python",
   "nbconvert_exporter": "python",
   "pygments_lexer": "ipython3",
   "version": "3.7.2"
  }
 },
 "nbformat": 4,
 "nbformat_minor": 2
}
